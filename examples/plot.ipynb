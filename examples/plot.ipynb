{
 "cells": [
  {
   "cell_type": "code",
   "execution_count": 1,
   "metadata": {},
   "outputs": [
    {
     "name": "stdout",
     "output_type": "stream",
     "text": [
      "# initial rotate H or S func.\n",
      "FCC(a=5.43)\n",
      "  Variant name: FCC\n",
      "  Special point names: GKLUWX\n",
      "  Default path: GXWKGLUWLK,UX\n",
      "\n",
      "  Special point coordinates:\n",
      "    G   0.0000  0.0000  0.0000\n",
      "    K   0.3750  0.3750  0.7500\n",
      "    L   0.5000  0.5000  0.5000\n",
      "    U   0.6250  0.2500  0.6250\n",
      "    W   0.5000  0.2500  0.7500\n",
      "    X   0.5000  0.0000  0.5000\n",
      "\n"
     ]
    },
    {
     "ename": "UnboundLocalError",
     "evalue": "local variable 'x' referenced before assignment",
     "output_type": "error",
     "traceback": [
      "\u001b[0;31m---------------------------------------------------------------------------\u001b[0m",
      "\u001b[0;31mUnboundLocalError\u001b[0m                         Traceback (most recent call last)",
      "\u001b[1;32m/root/deeptb/examples/plot.ipynb Cell 1\u001b[0m in \u001b[0;36m<cell line: 10>\u001b[0;34m()\u001b[0m\n\u001b[1;32m     <a href='vscode-notebook-cell://ssh-remote%2B39.103.225.242/root/deeptb/examples/plot.ipynb#W0sdnNjb2RlLXJlbW90ZQ%3D%3D?line=39'>40</a>\u001b[0m xlist, high_sym_kpoints, labels \u001b[39m=\u001b[39m kpath\u001b[39m.\u001b[39mget_linear_kpoint_axis()\n\u001b[1;32m     <a href='vscode-notebook-cell://ssh-remote%2B39.103.225.242/root/deeptb/examples/plot.ipynb#W0sdnNjb2RlLXJlbW90ZQ%3D%3D?line=40'>41</a>\u001b[0m klist \u001b[39m=\u001b[39m kpath\u001b[39m.\u001b[39mkpts\n\u001b[0;32m---> <a href='vscode-notebook-cell://ssh-remote%2B39.103.225.242/root/deeptb/examples/plot.ipynb#W0sdnNjb2RlLXJlbW90ZQ%3D%3D?line=42'>43</a>\u001b[0m all_bonds, hamil_blocks, overlap_blocks \u001b[39m=\u001b[39m nnsk\u001b[39m.\u001b[39;49mget_HR(st)\n\u001b[1;32m     <a href='vscode-notebook-cell://ssh-remote%2B39.103.225.242/root/deeptb/examples/plot.ipynb#W0sdnNjb2RlLXJlbW90ZQ%3D%3D?line=43'>44</a>\u001b[0m hkmat, skmat \u001b[39m=\u001b[39m nnsk\u001b[39m.\u001b[39mget_HK([klist[\u001b[39m0\u001b[39m]])\n\u001b[1;32m     <a href='vscode-notebook-cell://ssh-remote%2B39.103.225.242/root/deeptb/examples/plot.ipynb#W0sdnNjb2RlLXJlbW90ZQ%3D%3D?line=45'>46</a>\u001b[0m eigks, EF \u001b[39m=\u001b[39m nnsk\u001b[39m.\u001b[39mget_eigenvalues(klist)\n",
      "File \u001b[0;32m~/miniconda3/envs/torch/lib/python3.9/site-packages/dptb-0.1.dev232+gda622d3.d20220923-py3.9.egg/dptb/nnops/nnapi.py:213\u001b[0m, in \u001b[0;36mNNSK.get_HR\u001b[0;34m(self, structure, device, dtype)\u001b[0m\n\u001b[1;32m    209\u001b[0m     nn_onsiteE \u001b[39m=\u001b[39m \u001b[39mself\u001b[39m\u001b[39m.\u001b[39mmodel(mode\u001b[39m=\u001b[39m\u001b[39m'\u001b[39m\u001b[39monsite\u001b[39m\u001b[39m'\u001b[39m)\n\u001b[1;32m    211\u001b[0m coeffdict \u001b[39m=\u001b[39m \u001b[39mself\u001b[39m\u001b[39m.\u001b[39mmodel(mode\u001b[39m=\u001b[39m\u001b[39m'\u001b[39m\u001b[39mhopping\u001b[39m\u001b[39m'\u001b[39m)\n\u001b[0;32m--> 213\u001b[0m batch_onsiteEs \u001b[39m=\u001b[39m onsiteFunc(batch_bonds_onsite\u001b[39m=\u001b[39;49mbatch_bond_onsites, onsite_db\u001b[39m=\u001b[39;49m\u001b[39mself\u001b[39;49m\u001b[39m.\u001b[39;49monsite_db, nn_onsiteE\u001b[39m=\u001b[39;49mnn_onsiteE)\n\u001b[1;32m    214\u001b[0m batch_hoppings \u001b[39m=\u001b[39m \u001b[39mself\u001b[39m\u001b[39m.\u001b[39mhops_fun\u001b[39m.\u001b[39mget_skhops(batch_bonds\u001b[39m=\u001b[39mbatch_bond, coeff_paras\u001b[39m=\u001b[39mcoeffdict, sk_bond_ind\u001b[39m=\u001b[39m\u001b[39mself\u001b[39m\u001b[39m.\u001b[39msk_bond_ind_dict, rcut\u001b[39m=\u001b[39m\u001b[39mself\u001b[39m\u001b[39m.\u001b[39msk_cutoff, w\u001b[39m=\u001b[39m\u001b[39mself\u001b[39m\u001b[39m.\u001b[39msk_decay_w)\n\u001b[1;32m    215\u001b[0m onsiteEs, hoppings \u001b[39m=\u001b[39m batch_onsiteEs[\u001b[39m0\u001b[39m], batch_hoppings[\u001b[39m0\u001b[39m]\n",
      "File \u001b[0;32m~/miniconda3/envs/torch/lib/python3.9/site-packages/dptb-0.1.dev232+gda622d3.d20220923-py3.9.egg/dptb/nnsktb/onsiteFunc.py:61\u001b[0m, in \u001b[0;36monsiteFunc\u001b[0;34m(batch_bonds_onsite, onsite_db, nn_onsiteE)\u001b[0m\n\u001b[1;32m     43\u001b[0m \u001b[39m\"\"\" This function is to get the onsite energies for given bonds_onsite.\u001b[39;00m\n\u001b[1;32m     44\u001b[0m \n\u001b[1;32m     45\u001b[0m \u001b[39mParameters:\u001b[39;00m\n\u001b[0;32m   (...)\u001b[0m\n\u001b[1;32m     57\u001b[0m \u001b[39m    e.g.: {f: [tensor[es,ep], tensor[es,ep]]} or {f: [tensor[es,ep1,ep2,ep3], tensor[es,ep1,ep2,ep3]]}.\u001b[39;00m\n\u001b[1;32m     58\u001b[0m \u001b[39m\"\"\"\u001b[39;00m\n\u001b[1;32m     59\u001b[0m batch_onsiteEs \u001b[39m=\u001b[39m {}\n\u001b[0;32m---> 61\u001b[0m \u001b[39mprint\u001b[39m(nn_onsiteE[x])\n\u001b[1;32m     62\u001b[0m \u001b[39mfor\u001b[39;00m kf \u001b[39min\u001b[39;00m \u001b[39mlist\u001b[39m(batch_bonds_onsite\u001b[39m.\u001b[39mkeys()):\n\u001b[1;32m     63\u001b[0m     bonds_onsite \u001b[39m=\u001b[39m batch_bonds_onsite[kf][:,\u001b[39m1\u001b[39m:]\n",
      "\u001b[0;31mUnboundLocalError\u001b[0m: local variable 'x' referenced before assignment"
     ]
    }
   ],
   "source": [
    "import torch\n",
    "from dptb.nnops.nnapi import NNSK\n",
    "from dptb.structure.structure import BaseStruct\n",
    "from dptb.dataprocess.datareader import read_data\n",
    "import matplotlib.pyplot as plt\n",
    "import pickle as pickle\n",
    "import numpy as np\n",
    "\n",
    "\n",
    "if __name__ == '__main__':\n",
    "    checkpointPath = \"/root/dptb_exp/silicon/checkpoint/best_nnsk.pth\"\n",
    "    train_data_path = \"/root/dptb_exp/silicon/data/\"\n",
    "    train_data_prefix = \"set\"\n",
    "\n",
    "    proj_atom_neles = {\"Si\": 4}\n",
    "    proj_anglr_m = {\n",
    "      \"Si\": [\n",
    "        \"3s\",\n",
    "        \"3p\"\n",
    "      ]\n",
    "    }\n",
    "    nnsk = NNSK(checkpointPath, proj_anglr_m)\n",
    "    band = pickle.load(open('/root/dptb_exp/silicon/data/band_structure.pickle', 'rb'))\n",
    "\n",
    "    filename = '/root/dptb_exp/silicon/data/silicon.vasp'\n",
    "    st = BaseStruct(atom=filename, format='vasp',\n",
    "                    cutoff=4.0, proj_atom_anglr_m=proj_anglr_m, proj_atom_neles=proj_atom_neles, onsitemode='uniform', onsite_strain=True)\n",
    "\n",
    "    snapase = st.struct\n",
    "    # snapase = structase\n",
    "    lat = snapase.cell.get_bravais_lattice()\n",
    "    print(lat.description())\n",
    "    # lat.plot_bz(show=True)\n",
    "    special_kp = lat.get_special_points()\n",
    "    # spmap['M'] = np.array([0.5,0.5,1])\n",
    "    # kpath=snapase.cell.bandpath('XGX', npoints=120)\n",
    "    kpath = snapase.cell.bandpath('GXUKGLWX', npoints=400)\n",
    "    # kpath = snapase.cell.bandpath('WLGXWK', npoints=400)\n",
    "    xlist, high_sym_kpoints, labels = kpath.get_linear_kpoint_axis()\n",
    "    klist = kpath.kpts\n",
    "    \n",
    "    all_bonds, hamil_blocks, overlap_blocks = nnsk.get_HR(st)\n",
    "    hkmat, skmat = nnsk.get_HK([klist[0]])\n",
    "\n",
    "    eigks, EF = nnsk.get_eigenvalues(klist)\n",
    "\n",
    "    plt.figure(figsize=(5, 5), dpi=100)\n",
    "    for i in range(eigks.shape[1]):\n",
    "        plt.plot(xlist, eigks[:, i] - np.min(eigks), 'r-', lw=1)\n",
    "\n",
    "    for ib in range(band['eigenvalues'].shape[1]):\n",
    "        plt.plot(band['xcoords'], band['eigenvalues'][:, ib] - np.min(band['eigenvalues']), 'k--')\n",
    "    # plt.plot(band['xcoords'],band['eigenvalues'][:,0] - EF,'k--',label='GPAW')\n",
    "\n",
    "    for ii in high_sym_kpoints:\n",
    "        plt.axvline(ii, color='gray', lw=1, ls='--')\n",
    "    plt.tick_params(direction='in')\n",
    "    plt.ylim(-2, 35)\n",
    "    plt.xlim(xlist.min(), xlist.max())\n",
    "    plt.ylabel('E - EF (eV)', fontsize=12)\n",
    "    plt.yticks(fontsize=12)\n",
    "    plt.xticks(high_sym_kpoints, labels, fontsize=12)\n",
    "    plt.show()\n",
    "\n"
   ]
  }
 ],
 "metadata": {
  "kernelspec": {
   "display_name": "Python 3.9.12 ('torch')",
   "language": "python",
   "name": "python3"
  },
  "language_info": {
   "codemirror_mode": {
    "name": "ipython",
    "version": 3
   },
   "file_extension": ".py",
   "mimetype": "text/x-python",
   "name": "python",
   "nbconvert_exporter": "python",
   "pygments_lexer": "ipython3",
   "version": "3.9.12"
  },
  "orig_nbformat": 4,
  "vscode": {
   "interpreter": {
    "hash": "6f64be793538f7fe230f350828c9baf03d97c4df0981f52e8388f53f367f4a42"
   }
  }
 },
 "nbformat": 4,
 "nbformat_minor": 2
}
