{
 "cells": [
  {
   "cell_type": "code",
   "execution_count": 12,
   "metadata": {},
   "outputs": [],
   "source": [
    "import torch\n",
    "\n",
    "\n",
    "f = torch.load(\"best_nnsk.pth\")\n",
    "\n",
    "f[\"model_config\"][\"train_soc\"]=False\n",
    "# print(f[\"model_config\"][\"freeze\"])\n",
    "\n",
    "torch.save(f, \"best_nnsk.pth\")"
   ]
  }
 ],
 "metadata": {
  "kernelspec": {
   "display_name": "deeptb",
   "language": "python",
   "name": "python3"
  },
  "language_info": {
   "codemirror_mode": {
    "name": "ipython",
    "version": 3
   },
   "file_extension": ".py",
   "mimetype": "text/x-python",
   "name": "python",
   "nbconvert_exporter": "python",
   "pygments_lexer": "ipython3",
   "version": "3.8.13"
  },
  "orig_nbformat": 4,
  "vscode": {
   "interpreter": {
    "hash": "773d06224fda6a308d1281733d5420f05fa98af027be7051fc513b565149e13a"
   }
  }
 },
 "nbformat": 4,
 "nbformat_minor": 2
}
