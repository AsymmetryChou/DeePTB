{
 "cells": [
  {
   "cell_type": "code",
   "execution_count": 1,
   "metadata": {},
   "outputs": [
    {
     "name": "stdout",
     "output_type": "stream",
     "text": [
      "Atoms(symbols='Au36', pbc=True, cell=[8.8188394545, 8.8188394545, 8.314432480000008])\n"
     ]
    }
   ],
   "source": [
    "import ase.io\n",
    "import spglib\n",
    "\n",
    "# Read the structure from a file (replace 'structure.cif' with your file)\n",
    "structure = ase.io.read('/personal/DeepTB/dptb_Zjj/DeePTB/dptb/negf/bloch_files/Au_lead.vasp')\n",
    "\n",
    "\n",
    "# Convert the ASE atoms object to a spglib compatible format\n",
    "cell = (\n",
    "    structure.get_cell(),  # Lattice vectors\n",
    "    structure.get_scaled_positions(),  # Atomic positions\n",
    "    structure.get_atomic_numbers()  # Atomic numbers\n",
    ")\n",
    "\n",
    "# Get the conventional cell using spglib\n",
    "standardized_cell = spglib.standardize_cell(cell, to_primitive=False, no_idealize=True)\n",
    "standardized_cell2 = spglib.standardize_cell(standardized_cell, to_primitive=False, no_idealize=True)\n",
    "# Create an ASE Atoms object from the standardized cell\n",
    "conv_atoms = ase.Atoms(\n",
    "    numbers=standardized_cell[2],\n",
    "    scaled_positions=standardized_cell[1],\n",
    "    cell=standardized_cell[0],\n",
    "    pbc=True\n",
    ")\n",
    "\n",
    "# Print the conventional cell\n",
    "print(conv_atoms)\n",
    "\n",
    "ase.io.write('/personal/DeepTB/dptb_Zjj/DeePTB/dptb/negf/bloch_files/Au_lead_conv.vasp', conv_atoms)\n"
   ]
  },
  {
   "cell_type": "code",
   "execution_count": 2,
   "metadata": {},
   "outputs": [
    {
     "name": "stdout",
     "output_type": "stream",
     "text": [
      "Atoms(symbols='Au36', pbc=True, cell=[8.8188394545, 8.8188394545, 16.628864960000016])\n"
     ]
    }
   ],
   "source": [
    "import ase.io\n",
    "import spglib\n",
    "import numpy as np\n",
    "\n",
    "# Read the structure from a file (replace 'structure.cif' with your file)\n",
    "structure = ase.io.read('/personal/DeepTB/dptb_Zjj/DeePTB/dptb/negf/bloch_files/Au_lead_2PL.vasp')\n",
    "\n",
    "# Extract the cell and atomic positions\n",
    "cell = structure.get_cell()\n",
    "positions = structure.get_positions()\n",
    "atomic_numbers = structure.get_atomic_numbers()\n",
    "\n",
    "# Extract lattice vectors and positions\n",
    "a, b, c = cell\n",
    "scaled_positions = structure.get_scaled_positions()\n",
    "\n",
    "# Create a new cell with the z-direction fixed\n",
    "fixed_z_cell = np.array([\n",
    "    [a[0], a[1], 0],\n",
    "    [b[0], b[1], 0],\n",
    "    [0, 0, c[2]]\n",
    "])\n",
    "\n",
    "# Create a spglib-compatible cell tuple\n",
    "spglib_cell = (fixed_z_cell, scaled_positions, atomic_numbers)\n",
    "\n",
    "# Get the smallest cell using spglib\n",
    "smallest_cell = spglib.standardize_cell(spglib_cell, to_primitive=True, no_idealize=False)\n",
    "\n",
    "# Convert the smallest cell back to ASE Atoms object\n",
    "smallest_cell_ase = ase.Atoms(\n",
    "    numbers=smallest_cell[2],\n",
    "    scaled_positions=smallest_cell[1],\n",
    "    cell=smallest_cell[0],\n",
    "    pbc=True\n",
    ")\n",
    "\n",
    "# Extract the reduced xy-plane lattice vectors and original z-direction\n",
    "xy_cell = smallest_cell_ase.get_cell()\n",
    "xy_cell[2] = cell[2]  # Keep the original z-direction\n",
    "\n",
    "# Set the new cell with fixed z-direction\n",
    "smallest_cell_ase.set_cell(xy_cell, scale_atoms=True)\n",
    "\n",
    "# Print the new smallest periodic cell\n",
    "print(smallest_cell_ase)\n"
   ]
  },
  {
   "cell_type": "code",
   "execution_count": 3,
   "metadata": {},
   "outputs": [],
   "source": [
    "# Read the structure from a file (replace 'structure.cif' with your file)\n",
    "import ase\n",
    "from ase.build import sort\n",
    "structure = ase.io.read('/personal/DeepTB/dptb_Zjj/DeePTB/dptb/negf/bloch_files/Au_lead_2PL.vasp')\n",
    "cell = structure.get_cell()\n",
    "positions = structure.get_positions()\n",
    "atomic_numbers = structure.get_atomic_numbers()\n",
    "\n",
    "bloch_factor = [6,6,1]\n",
    "# Create a new cell with the z-direction fixed\n",
    "fixed_z_cell = np.array([\n",
    "    [cell[0][0]/bloch_factor[0], 0, 0],\n",
    "    [0, cell[1][1]/bloch_factor[1], 0],\n",
    "    [0, 0, cell[2][2]]\n",
    "])\n",
    "\n",
    "new_positions = []\n",
    "new_atomic_numbers = []\n",
    "\n",
    "delta = 1e-4\n",
    "for ip,pos in enumerate(positions):\n",
    "    if pos[0]<cell[0][0]/bloch_factor[0]-delta and pos[1]<cell[1][1]/bloch_factor[1]-delta:\n",
    "        new_positions.append(pos)\n",
    "        new_atomic_numbers.append(atomic_numbers[ip])\n",
    "\n",
    "\n",
    "smallest_cell_ase = ase.Atoms(\n",
    "    numbers=new_atomic_numbers,\n",
    "    positions=new_positions,\n",
    "    cell=fixed_z_cell,\n",
    "    pbc=True\n",
    ")\n",
    "\n",
    "smallest_cell_ase = sort(smallest_cell_ase,tags=smallest_cell_ase.positions[:,0])\n",
    "smallest_cell_ase = sort(smallest_cell_ase,tags=smallest_cell_ase.positions[:,1])\n",
    "smallest_cell_ase = sort(smallest_cell_ase,tags=smallest_cell_ase.positions[:,2])\n",
    "\n",
    "\n",
    "ase.io.write('/personal/DeepTB/dptb_Zjj/DeePTB/dptb/negf/bloch_files/Au_lead_small_2PLtest.vasp', smallest_cell_ase )"
   ]
  },
  {
   "cell_type": "code",
   "execution_count": 6,
   "metadata": {},
   "outputs": [],
   "source": [
    "#思路\n",
    "# 获得小电极的结构，用模型预测HR和HK，进行自能计算\n",
    "from dptb.nn.build import build_model\n",
    "from dptb.data import AtomicData, AtomicDataDict\n",
    "import torch\n",
    "from ase.io import read\n",
    "import numpy as np\n",
    "from dptb.nn.hr2hk import HR2HK\n",
    "\n",
    "from bloch import Bloch\n",
    "\n",
    "\n",
    "kp = [0,0,0]\n",
    "bloch = Bloch(bloch_factor)\n",
    "k_unfold = bloch.unfold_points(kp)\n",
    "\n",
    "\n",
    "def remove_bonds_nonpbc(data,pbc,overlap):\n",
    "\n",
    "    for ip,p in enumerate(pbc):\n",
    "        if not p:\n",
    "            mask = abs(data[AtomicDataDict.EDGE_CELL_SHIFT_KEY][:,ip])<1e-7\n",
    "            data[AtomicDataDict.EDGE_CELL_SHIFT_KEY] = data[AtomicDataDict.EDGE_CELL_SHIFT_KEY][mask]\n",
    "            data[AtomicDataDict.EDGE_INDEX_KEY] = data[AtomicDataDict.EDGE_INDEX_KEY][:,mask]\n",
    "            data[AtomicDataDict.EDGE_FEATURES_KEY] = data[AtomicDataDict.EDGE_FEATURES_KEY][mask]\n",
    "            if overlap:\n",
    "                data[AtomicDataDict.EDGE_OVERLAP_KEY] = data[AtomicDataDict.EDGE_OVERLAP_KEY][mask]\n",
    "\n",
    "model = build_model(checkpoint=\"/personal/DFTB/Au_Ag/Au_TS/nnsk_dftbint/checkpoint/nnsk.best.pth\")\n",
    "AtomicData_options={\n",
    "        \"r_max\": 5.5,\n",
    "        \"pbc\": True\n",
    "    }\n",
    "\n",
    "\n",
    "h2k = HR2HK(\n",
    "            idp=model.idp, \n",
    "            edge_field=AtomicDataDict.EDGE_FEATURES_KEY, \n",
    "            node_field=AtomicDataDict.NODE_FEATURES_KEY, \n",
    "            out_field=AtomicDataDict.HAMILTONIAN_KEY, \n",
    "            dtype= model.dtype, \n",
    "            device='cpu'\n",
    "            )\n",
    "s2k = HR2HK(\n",
    "    idp=model.idp, \n",
    "    overlap=True, \n",
    "    edge_field=AtomicDataDict.EDGE_OVERLAP_KEY, \n",
    "    node_field=AtomicDataDict.NODE_OVERLAP_KEY, \n",
    "    out_field=AtomicDataDict.OVERLAP_KEY, \n",
    "    dtype=model.dtype, \n",
    "    device='cpu'\n",
    "    )\n",
    "\n",
    "\n",
    "structure_leads = read('/personal/DeepTB/dptb_Zjj/DeePTB/dptb/negf/bloch_files/Au_lead_small_2PLtest.vasp')\n",
    "# structure_leads = read('/personal/DeepTB/dptb_Zjj/DeePTB/dptb/negf/bloch_files/Au_lead_2PL.vasp')\n",
    "from ase.build import sort\n",
    "structure_leads = sort(structure_leads,tags=structure_leads.positions[:,0])\n",
    "structure_leads = sort(structure_leads,tags=structure_leads.positions[:,1])\n",
    "structure_leads = sort(structure_leads,tags=structure_leads.positions[:,2])\n",
    "\n",
    "# kpoints = np.array([[0,0,0]])\n",
    "kpoints = k_unfold\n",
    "\n",
    "\n",
    "lead_data = AtomicData.from_ase(structure_leads, **AtomicData_options)\n",
    "lead_data = AtomicData.to_AtomicDataDict(lead_data.to(torch.device('cpu')))\n",
    "lead_data = model.idp(lead_data)\n",
    "lead_data[AtomicDataDict.KPOINT_KEY] = \\\n",
    "    torch.nested.as_nested_tensor([torch.as_tensor(kpoints, dtype=model.dtype, device='cpu')])\n",
    "lead_data = model(lead_data)   \n",
    "pbc = [True,True, False]\n",
    "overlap = True\n",
    "remove_bonds_nonpbc(lead_data,pbc,overlap=overlap)\n",
    "\n",
    "\n",
    "lead_data = h2k(lead_data)\n",
    "HK_lead = lead_data[AtomicDataDict.HAMILTONIAN_KEY]\n",
    "if overlap: \n",
    "    lead_data = s2k(lead_data)\n",
    "    S_lead = lead_data[AtomicDataDict.OVERLAP_KEY]\n",
    "else:\n",
    "    S_lead = torch.eye(HK_lead.shape[1], dtype=model.dtype, device='cpu').unsqueeze(0).repeat(HK_lead.shape[0], 1, 1)\n",
    "\n",
    "\n",
    "nL = int(HK_lead.shape[1] / 2)\n",
    "HLL, SLL = HK_lead[:, :nL, nL:], S_lead[:, :nL, nL:] # H_{L_first2L_second}\n",
    "hL, sL = HK_lead[:,:nL,:nL], S_lead[:,:nL,:nL] # lead hamiltonian in one principal layer\n",
    "HL = hL\n",
    "SL = sL\n",
    "\n",
    "\n",
    "HS_leads = {}\n",
    "HS_leads[\"kpoints\"] = kpoints\n",
    "h_factor=1\n",
    "HS_leads.update({\n",
    "    \"HL\":HL.cdouble()*h_factor, \n",
    "    \"SL\":SL.cdouble(), \n",
    "    \"HDL\":HL.cdouble()*h_factor,\n",
    "    \"SDL\":SL.cdouble(),\n",
    "    \"HLL\":HLL.cdouble()*h_factor, \n",
    "    \"SLL\":SLL.cdouble()\n",
    "    }) \n",
    "torch.save(HS_leads, '/personal/DeepTB/dptb_Zjj/DeePTB/dptb/negf/bloch_files/HS_lead_small.pth')\n",
    "# torch.save(HS_leads, '/personal/DeepTB/dptb_Zjj/DeePTB/dptb/negf/bloch_files/HS_lead.pth')"
   ]
  },
  {
   "cell_type": "code",
   "execution_count": 7,
   "metadata": {},
   "outputs": [
    {
     "data": {
      "text/plain": [
       "(36, 3)"
      ]
     },
     "execution_count": 7,
     "metadata": {},
     "output_type": "execute_result"
    }
   ],
   "source": [
    "import torch\n",
    "HS_leads = torch.load('/personal/DeepTB/dptb_Zjj/DeePTB/dptb/negf/bloch_files/HS_lead_small.pth')\n",
    "HS_leads['HL'].shape\n",
    "HS_leads['kpoints'].shape"
   ]
  },
  {
   "cell_type": "code",
   "execution_count": 8,
   "metadata": {},
   "outputs": [
    {
     "name": "stdout",
     "output_type": "stream",
     "text": [
      "small lead self-energy is ready\n"
     ]
    }
   ],
   "source": [
    "from dptb.negf.surface_green import selfEnergy\n",
    "import torch\n",
    "\n",
    "HS_leads = torch.load('/personal/DeepTB/dptb_Zjj/DeePTB/dptb/negf/bloch_files/HS_lead_small.pth')\n",
    "\n",
    "# hL = HS_leads['HL'][0]\n",
    "# hLL = HS_leads['HLL'][0]\n",
    "# sL = HS_leads['SL'][0]\n",
    "# sLL = HS_leads['SLL'][0]\n",
    "ee = 2\n",
    "\n",
    "Sig_list = []\n",
    "SGF_list = []\n",
    "\n",
    "# self-energy and surface Green's function\n",
    "for i in range(HS_leads['HL'].shape[0]):\n",
    "    hL = HS_leads['HL'][i]\n",
    "    hLL = HS_leads['HLL'][i]\n",
    "    sL = HS_leads['SL'][i]\n",
    "    sLL = HS_leads['SLL'][i]\n",
    "    Sig, SGF = selfEnergy(hL, hLL, sL, sLL, ee, \n",
    "            hDL=None, sDL=None, etaLead=1e-8, Bulk=False, \n",
    "            chemiPot=0.0, dtype=torch.complex128, device='cpu', method='Lopez-Sancho')\n",
    "    Sig_list.append(Sig)\n",
    "    SGF_list.append(SGF)\n",
    "print('small lead self-energy is ready')\n",
    "\n",
    "\n",
    "HS_leads = torch.load('/personal/DeepTB/dptb_Zjj/DeePTB/dptb/negf/bloch_files/HS_lead.pth')\n",
    "hL = HS_leads['HL'][0]\n",
    "hLL = HS_leads['HLL'][0]\n",
    "sL = HS_leads['SL'][0]\n",
    "sLL = HS_leads['SLL'][0]\n",
    "Sig_all, SGF_all = selfEnergy(hL, hLL, sL, sLL, ee, \n",
    "            hDL=None, sDL=None, etaLead=1e-8, Bulk=False, \n",
    "            chemiPot=0.0, dtype=torch.complex128, device='cpu', method='Lopez-Sancho')\n"
   ]
  },
  {
   "cell_type": "code",
   "execution_count": 9,
   "metadata": {},
   "outputs": [
    {
     "data": {
      "text/plain": [
       "torch.Size([36, 36])"
      ]
     },
     "execution_count": 9,
     "metadata": {},
     "output_type": "execute_result"
    }
   ],
   "source": [
    "Sig_all.shape\n",
    "Sig_list[0].shape"
   ]
  },
  {
   "cell_type": "code",
   "execution_count": 10,
   "metadata": {},
   "outputs": [
    {
     "data": {
      "text/plain": [
       "array([[0.        , 0.        , 0.        ],\n",
       "       [0.        , 2.93961903, 0.        ],\n",
       "       [2.93961903, 0.        , 0.        ],\n",
       "       [2.93961903, 2.93961903, 0.        ],\n",
       "       [1.46980599, 1.46980599, 2.07854976],\n",
       "       [1.46980599, 4.40941973, 2.07854976],\n",
       "       [4.40941973, 1.46980599, 2.07854976],\n",
       "       [4.40941973, 4.40941973, 2.07854976],\n",
       "       [0.        , 0.        , 4.15709952],\n",
       "       [0.        , 2.93961903, 4.15709952],\n",
       "       [2.93961903, 0.        , 4.15709952],\n",
       "       [2.93961903, 2.93961903, 4.15709952],\n",
       "       [1.46980599, 1.46980599, 6.23588272],\n",
       "       [1.46980599, 4.40941973, 6.23588272],\n",
       "       [4.40941973, 1.46980599, 6.23588272],\n",
       "       [4.40941973, 4.40941973, 6.23588272]])"
      ]
     },
     "execution_count": 10,
     "metadata": {},
     "output_type": "execute_result"
    }
   ],
   "source": [
    "small_struct = read('/personal/DeepTB/dptb_Zjj/DeePTB/dptb/negf/bloch_files/Au_lead_small.vasp')\n",
    "small_struct.positions"
   ]
  },
  {
   "cell_type": "code",
   "execution_count": 12,
   "metadata": {},
   "outputs": [],
   "source": [
    "from ase.io import read\n",
    "from ase.build import sort\n",
    "\n",
    "# one Principal layer\n",
    "small_struct = read('/personal/DeepTB/dptb_Zjj/DeePTB/dptb/negf/bloch_files/Au_lead_smalltest.vasp')\n",
    "small_struct = sort(small_struct,tags=small_struct.positions[:,0])\n",
    "small_struct = sort(small_struct,tags=small_struct.positions[:,1])\n",
    "small_struct = sort(small_struct,tags=small_struct.positions[:,2])\n",
    "small_cell = small_struct.get_cell()\n",
    "\n",
    "Sig_k_list = []\n",
    "origin_pos = []\n",
    "all_pos = []\n",
    "atom_orb = 9\n",
    "\n",
    "\n",
    "R_list = []\n",
    "for rz in range(bloch_factor[2]):\n",
    "    for ry in range(bloch_factor[1]):\n",
    "        for rx in range(bloch_factor[0]):     \n",
    "            R = torch.tensor([rx,ry,rz],dtype=torch.float64)\n",
    "            R_list.append(R)\n",
    "            for id in range(len(small_struct)):\n",
    "                pos = torch.tensor(small_struct.positions[id]) + R[0]*small_cell[0] + R[1]*small_cell[1] + R[2]*small_cell[2]\n",
    "                origin_pos.append(pos)\n",
    "            \n",
    "origin_pos = torch.stack(origin_pos)\n",
    "all_struct = read('/personal/DeepTB/dptb_Zjj/DeePTB/dptb/negf/bloch_files/Au_lead.vasp')\n",
    "assert len(all_struct) == len(origin_pos)\n",
    "sorted_indices = np.lexsort((origin_pos.numpy()[:, 0], origin_pos.numpy()[:, 1], origin_pos.numpy()[:, 2]))\n",
    "\n",
    "basis_norb = torch.ones(int(origin_pos.shape[0]),dtype=torch.int64)*atom_orb \n",
    "origin_basis_index = torch.cumsum(basis_norb,0)\n",
    "sorted_basis_indices = []\n",
    "for ia in sorted_indices:\n",
    "    for k in range(atom_orb):\n",
    "        sorted_basis_indices.append(origin_basis_index[ia]-atom_orb+k)\n",
    "        \n",
    "sorted_basis_indices = torch.stack(sorted_basis_indices)\n",
    "\n",
    "for ik,k in enumerate(k_unfold):\n",
    "    k = torch.tensor(k)\n",
    "    phase_factor_list = []\n",
    "    m_size = bloch_factor[2]*bloch_factor[1]*bloch_factor[0]\n",
    "    phase_factor_m = torch.zeros([m_size,m_size],dtype=torch.complex128)\n",
    "    for i in range(m_size):\n",
    "        for j in range(m_size):\n",
    "            if i == j:\n",
    "                phase_factor_m[i,j] = 1\n",
    "            else:\n",
    "                phase_factor_m[i,j] = torch.exp(torch.tensor(1j)*2*torch.pi*torch.dot(R_list[j]-R_list[i],k))  \n",
    "\n",
    "    Sig_k_list.append(torch.kron(phase_factor_m,Sig_list[ik]))\n",
    "\n",
    "Sig_sumup = torch.sum(torch.stack(Sig_k_list),dim=0)/len(Sig_k_list)\n",
    "Sig_sumup_sorted = Sig_sumup[sorted_basis_indices,:][:,sorted_basis_indices]\n"
   ]
  },
  {
   "cell_type": "code",
   "execution_count": 84,
   "metadata": {},
   "outputs": [
    {
     "data": {
      "text/plain": [
       "36"
      ]
     },
     "execution_count": 84,
     "metadata": {},
     "output_type": "execute_result"
    }
   ],
   "source": [
    "len(R_list)"
   ]
  },
  {
   "cell_type": "code",
   "execution_count": 85,
   "metadata": {},
   "outputs": [
    {
     "data": {
      "text/plain": [
       "tensor(1.7361e-05, dtype=torch.float64, grad_fn=<MaxBackward1>)"
      ]
     },
     "execution_count": 85,
     "metadata": {},
     "output_type": "execute_result"
    }
   ],
   "source": [
    "abs(Sig_sumup_sorted[-10:,-10:].real-Sig_all[-10:,-10:].real).max()"
   ]
  },
  {
   "cell_type": "code",
   "execution_count": 86,
   "metadata": {},
   "outputs": [
    {
     "data": {
      "text/plain": [
       "tensor(3.3628e-05, dtype=torch.float64, grad_fn=<MaxBackward1>)"
      ]
     },
     "execution_count": 86,
     "metadata": {},
     "output_type": "execute_result"
    }
   ],
   "source": [
    "abs(Sig_all-Sig_sumup_sorted).max()"
   ]
  },
  {
   "cell_type": "code",
   "execution_count": 87,
   "metadata": {},
   "outputs": [
    {
     "data": {
      "text/plain": [
       "tensor(3.5893e-14, dtype=torch.float64, grad_fn=<MaxBackward1>)"
      ]
     },
     "execution_count": 87,
     "metadata": {},
     "output_type": "execute_result"
    }
   ],
   "source": [
    "#在Nx=72时误差显著放大，代码里显然有bug\n",
    "Nx=73\n",
    "abs(Sig_all[:Nx,:Nx]-Sig_sumup_sorted[:Nx,:Nx]).max()\n",
    "# Sig_all[17:Nx,17:Nx]-Sig_sumup[17:Nx,17:Nx]"
   ]
  },
  {
   "cell_type": "code",
   "execution_count": 13,
   "metadata": {},
   "outputs": [
    {
     "data": {
      "text/plain": [
       "<matplotlib.image.AxesImage at 0x7f61089e22c0>"
      ]
     },
     "execution_count": 13,
     "metadata": {},
     "output_type": "execute_result"
    },
    {
     "data": {
      "image/png": "[encoded data removed]",
      "text/plain": [
       "<Figure size 480x480 with 1 Axes>"
      ]
     },
     "metadata": {},
     "output_type": "display_data"
    },
    {
     "data": {
      "image/png": "[encoded data removed]",
      "text/plain": [
       "<Figure size 480x480 with 1 Axes>"
      ]
     },
     "metadata": {},
     "output_type": "display_data"
    },
    {
     "data": {
      "image/png": "[encoded data removed]",
      "text/plain": [
       "<Figure size 480x480 with 1 Axes>"
      ]
     },
     "metadata": {},
     "output_type": "display_data"
    }
   ],
   "source": [
    "import matplotlib.pyplot as plt\n",
    "diff_sig = Sig_all - Sig_sumup_sorted\n",
    "# diff_sig = Sig_sumup_sorted[-18:,-18:].real-Sig_all[-18:,-18:].real\n",
    "plt.matshow(abs(Sig_sumup_sorted.detach().numpy()),cmap='bwr',vmax=0.005,vmin=-0.005)\n",
    "plt.matshow(abs(Sig_all.detach().numpy()),cmap='bwr',vmax=0.005,vmin=-0.005)\n",
    "plt.matshow(abs(diff_sig.detach().numpy()),cmap='bwr',vmax=0.05,vmin=-0.05)\n",
    "\n",
    "#部分对角元上都没有问题，说明可能是相位设置出现了问题\n",
    "#所有对角块总能对上\n",
    "#调整默认相位convention，可以使更多格子对上，但仍有较多非对角元无法对上\n",
    "#应该还是轨道顺序的问题，自能矩阵中每个原子的onsite block是一致的，而原子-原子间的相互作用有问题\n",
    "##要过一遍自能计算的流程，将原子的轨道顺序check一下"
   ]
  },
  {
   "cell_type": "code",
   "execution_count": 126,
   "metadata": {},
   "outputs": [],
   "source": [
    "# a = Sig_sumup_sorted[-9:,-18:-9].flatten()[14]\n",
    "for idj,j in enumerate(Sig_sumup_sorted.flatten().detach().numpy()[::-1]):\n",
    "    pair = False\n",
    "    for idi,i in enumerate(Sig_all.flatten().detach().numpy()[::-1]):\n",
    "            if abs(i-j)<1e-4:\n",
    "                pair = True\n",
    "                break\n",
    "    if pair == False:\n",
    "        print(idj)\n",
    "        print(j)\n"
   ]
  }
 ],
 "metadata": {
  "kernelspec": {
   "display_name": "deeptb-dev",
   "language": "python",
   "name": "python3"
  },
  "language_info": {
   "codemirror_mode": {
    "name": "ipython",
    "version": 3
   },
   "file_extension": ".py",
   "mimetype": "text/x-python",
   "name": "python",
   "nbconvert_exporter": "python",
   "pygments_lexer": "ipython3",
   "version": "3.10.13"
  }
 },
 "nbformat": 4,
 "nbformat_minor": 2
}
